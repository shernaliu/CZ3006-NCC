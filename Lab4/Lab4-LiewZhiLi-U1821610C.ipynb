{
 "cells": [
  {
   "cell_type": "markdown",
   "metadata": {},
   "source": [
    "# CZ3006 Lab 4 - Analyzing Network Traffic Log Data using Python"
   ]
  },
  {
   "cell_type": "markdown",
   "metadata": {},
   "source": [
    "### Import the necessary libraries"
   ]
  },
  {
   "cell_type": "code",
   "execution_count": 398,
   "metadata": {},
   "outputs": [],
   "source": [
    "import numpy as np\n",
    "import pandas as pd\n",
    "import matplotlib.pyplot as plt"
   ]
  },
  {
   "cell_type": "markdown",
   "metadata": {},
   "source": [
    "### Import the traffic data CSV file"
   ]
  },
  {
   "cell_type": "code",
   "execution_count": 399,
   "metadata": {},
   "outputs": [],
   "source": [
    "# init header\n",
    "header = [\"Type\", \"sflow_agent_address\", \"inputPort\", \"outputPort\", \"src_MAC\", \"dst_MAC\", \"ethernet_type\", \"in_vlan\", \"out_vlan\", \"src_IP\", \"dst_IP\", \"IP_protocol\", \"ip_tos\", \"ip_ttl\", \"src_port\", \"dst_port\", \"tcp_flags\", \"packet_size\", \"IP_size\", \"sampling rate\",\"Row 21\"]\n",
    "\n",
    "# replace with the correct file\n",
    "data = pd.read_csv('SFlow_Data_lab4.csv.csv', header=None, names=header, index_col=False)\n",
    "\n",
    "# count no. of \"FLOW\" columns and \"CNTR\" columns\n",
    "data[\"Type\"].value_counts()\n",
    "\n",
    "# first column can be \"FLOW\" or \"CNTR\"\n",
    "# we want to look at entries with Type == \"FLOW\", thus, we extract those columns.\n",
    "data = data[data.Type == 'FLOW']"
   ]
  },
  {
   "cell_type": "markdown",
   "metadata": {},
   "source": [
    "### EXERCISE 4A: TOP 5 TALKERS AND LISTENERS"
   ]
  },
  {
   "cell_type": "markdown",
   "metadata": {},
   "source": [
    "#### List the TOP 5 TALKERS"
   ]
  },
  {
   "cell_type": "code",
   "execution_count": 400,
   "metadata": {},
   "outputs": [
    {
     "name": "stdout",
     "output_type": "stream",
     "text": [
      "IP address\tNo. of packets\n"
     ]
    },
    {
     "data": {
      "text/plain": [
       "193.62.192.8     3041\n",
       "155.69.160.32    2975\n",
       "130.14.250.11    2604\n",
       "14.139.196.58    2452\n",
       "140.112.8.139    2056\n",
       "Name: src_IP, dtype: int64"
      ]
     },
     "execution_count": 400,
     "metadata": {},
     "output_type": "execute_result"
    }
   ],
   "source": [
    "top_5_talkers = data['src_IP'].value_counts()\n",
    "print(\"IP address\\tNo. of packets\")\n",
    "top_5_talkers.head(n=5)"
   ]
  },
  {
   "cell_type": "markdown",
   "metadata": {},
   "source": [
    "**Organisation for that IP Address**\n",
    "\n",
    "Using https://whatismyipaddress.com or https://www.whatismyip.com/ip-whois-lookup/:\n",
    "\n",
    "193.62.192.8 belongs to: European Bioinformatics Institute\n",
    "\n",
    "155.69.160.32 belongs to: Nanyang Technological University\n",
    "\n",
    "130.14.250.11 belongs to: National Library of Medicine (NLM)\n",
    "\n",
    "14.139.196.58  belongs to: Indian Institute of Technology (IIT), Guwahati\n",
    "\n",
    "140.112.8.139 belongs to: National Taiwan University\n"
   ]
  },
  {
   "cell_type": "markdown",
   "metadata": {},
   "source": [
    "#### List the TOP 5 LISTENERS"
   ]
  },
  {
   "cell_type": "code",
   "execution_count": 401,
   "metadata": {},
   "outputs": [
    {
     "name": "stdout",
     "output_type": "stream",
     "text": [
      "IP address\tNo. of packets\n"
     ]
    },
    {
     "data": {
      "text/plain": [
       "103.37.198.100     3841\n",
       "137.132.228.15     3715\n",
       "202.21.159.244     2446\n",
       "192.101.107.153    2368\n",
       "103.21.126.2       2056\n",
       "Name: dst_IP, dtype: int64"
      ]
     },
     "execution_count": 401,
     "metadata": {},
     "output_type": "execute_result"
    }
   ],
   "source": [
    "top_5_listeners = data['dst_IP'].value_counts()\n",
    "print(\"IP address\\tNo. of packets\")\n",
    "top_5_listeners.head(n=5)"
   ]
  },
  {
   "cell_type": "markdown",
   "metadata": {},
   "source": [
    "**Organisation for that IP Address**\n",
    "\n",
    "Using https://whatismyipaddress.com/ip-lookup:\n",
    "\n",
    "103.37.198.100 belongs to: A*STAR\n",
    "\n",
    "137.132.228.15 belongs to: National University of Singapore\n",
    "\n",
    "202.21.159.244 belongs to: Republic Polytechnic\n",
    "\n",
    "192.101.107.153 belongs to: Pacific Northwest National Laboratory (PNNL-Z)\n",
    "\n",
    "103.21.126.2 belongs to: Indian Institute of Technology Bombay"
   ]
  },
  {
   "cell_type": "markdown",
   "metadata": {},
   "source": [
    "### EXERCISE 4B: TRANSPORT PROTOCOL"
   ]
  },
  {
   "cell_type": "markdown",
   "metadata": {},
   "source": [
    "#### PERCENTAGE OF TCP AND UDP PROTOCOL\n",
    "\n",
    "Use this website to find which value corresponds to which transport layer protocol: https://www.iana.org/assignments/protocol-numbers/protocol-numbers.xhtml"
   ]
  },
  {
   "cell_type": "code",
   "execution_count": 402,
   "metadata": {},
   "outputs": [
    {
     "name": "stdout",
     "output_type": "stream",
     "text": [
      "Top 5 Most Used IP Protocols\n",
      "IP Protocol\tNo. of packets\n"
     ]
    },
    {
     "data": {
      "text/plain": [
       "6     56064\n",
       "17     9462\n",
       "50     1698\n",
       "47      657\n",
       "41      104\n",
       "Name: IP_protocol, dtype: int64"
      ]
     },
     "execution_count": 402,
     "metadata": {},
     "output_type": "execute_result"
    }
   ],
   "source": [
    "ip_protocol = data['IP_protocol'].value_counts()\n",
    "print(\"Top 5 Most Used IP Protocols\")\n",
    "print(\"IP Protocol\\tNo. of packets\")\n",
    "ip_protocol.head(n=5)"
   ]
  },
  {
   "cell_type": "code",
   "execution_count": 403,
   "metadata": {},
   "outputs": [
    {
     "name": "stdout",
     "output_type": "stream",
     "text": [
      "Total no. of packets:  68065\n",
      "\n",
      "Header Value\tNo. of packets\t% of packets\n",
      "6 \t\t 56064 \t\t 82.37 %\n",
      "17 \t\t 9462 \t\t 13.9 %\n",
      "50 \t\t 1698 \t\t 2.49 %\n",
      "47 \t\t 657 \t\t 0.97 %\n",
      "41 \t\t 104 \t\t 0.15 %\n",
      "1 \t\t 74 \t\t 0.11 %\n",
      "58 \t\t 4 \t\t 0.01 %\n",
      "103 \t\t 1 \t\t 0.0 %\n",
      "0 \t\t 1 \t\t 0.0 %\n"
     ]
    }
   ],
   "source": [
    "total_number_of_packets = data['IP_protocol'].count()\n",
    "print(\"Total no. of packets: \",total_number_of_packets)\n",
    "print()\n",
    "\n",
    "row = 0 \n",
    "UDP_TCP = 0\n",
    "print(\"Header Value\\tNo. of packets\\t% of packets\")\n",
    "for i in ip_protocol:\n",
    "    print(ip_protocol.index[row],'\\t\\t',i,'\\t\\t',round((i/total_number_of_packets)*100,2),'%')\n",
    "    row = row + 1"
   ]
  },
  {
   "cell_type": "markdown",
   "metadata": {},
   "source": [
    "### EXERCISE 4C: TOP 5 APPLICATIONS PROTOCOL"
   ]
  },
  {
   "cell_type": "code",
   "execution_count": 404,
   "metadata": {},
   "outputs": [
    {
     "name": "stdout",
     "output_type": "stream",
     "text": [
      "Dest. IP port No.\tNo. of packets\n"
     ]
    },
    {
     "data": {
      "text/plain": [
       "443      13423\n",
       "80        2647\n",
       "52866     2068\n",
       "45512     1356\n",
       "56152     1341\n",
       "Name: dst_port, dtype: int64"
      ]
     },
     "execution_count": 404,
     "metadata": {},
     "output_type": "execute_result"
    }
   ],
   "source": [
    "top_5_applications = data['dst_port'].value_counts()\n",
    "print(\"Dest. IP port No.\\tNo. of packets\")\n",
    "top_5_applications.head(n=5)"
   ]
  },
  {
   "cell_type": "markdown",
   "metadata": {},
   "source": [
    "**Service**\n",
    "\n",
    "443: Hypertext Transfer Protocol over TLS/SSL (HTTPS)\n",
    "\n",
    "0: Reserved port\n",
    "\n",
    "56152: Dynamic and/or Private Ports\n",
    "\n",
    "43930: Private/Unassigned ports\n",
    "\n",
    "80: Hypertext Transfer Protocol (HTTP)"
   ]
  },
  {
   "cell_type": "markdown",
   "metadata": {},
   "source": [
    "### EXERCISE 4D: TOTAL TRAFFIC"
   ]
  },
  {
   "cell_type": "code",
   "execution_count": 405,
   "metadata": {},
   "outputs": [
    {
     "name": "stdout",
     "output_type": "stream",
     "text": [
      "\n",
      "Total Traffic in MB over 15 seconds: 71.98 Mbps\n"
     ]
    }
   ],
   "source": [
    "# Calculate Total Traffic in MB\n",
    "total_size_Bytes = data[\"IP_size\"].sum()\n",
    "\n",
    "# Assumption: Using 1 Kilobyte (KB) = 1000 bytes, not 1 Kilobyte (KB) = 1024 bytes\n",
    "total_size_MegaBytes = total_size_Bytes/1000/1000\n",
    "\n",
    "sampling_rate = 1000\n",
    "time_seconds = 15*60\n",
    "\n",
    "total_traffic = total_size_MegaBytes*sampling_rate/time_seconds\n",
    "print(\"\\nTotal Traffic in MB over 15 seconds: %.2f Mbps\" % (total_traffic))"
   ]
  },
  {
   "cell_type": "markdown",
   "metadata": {},
   "source": [
    "### EXERCISE 4E: ADDITIONAL ANALYSIS"
   ]
  },
  {
   "cell_type": "markdown",
   "metadata": {},
   "source": [
    "#### Top 5 Bidirectional Communication Pairs"
   ]
  },
  {
   "cell_type": "code",
   "execution_count": 406,
   "metadata": {},
   "outputs": [
    {
     "data": {
      "text/html": [
       "<div>\n",
       "<style scoped>\n",
       "    .dataframe tbody tr th:only-of-type {\n",
       "        vertical-align: middle;\n",
       "    }\n",
       "\n",
       "    .dataframe tbody tr th {\n",
       "        vertical-align: top;\n",
       "    }\n",
       "\n",
       "    .dataframe thead th {\n",
       "        text-align: right;\n",
       "    }\n",
       "</style>\n",
       "<table border=\"1\" class=\"dataframe\">\n",
       "  <thead>\n",
       "    <tr style=\"text-align: right;\">\n",
       "      <th></th>\n",
       "      <th>(IP Address 1, IP Address 2)</th>\n",
       "      <th>No. Of Packets</th>\n",
       "    </tr>\n",
       "  </thead>\n",
       "  <tbody>\n",
       "    <tr>\n",
       "      <th>0</th>\n",
       "      <td>(137.132.228.15, 193.62.192.8)</td>\n",
       "      <td>4951</td>\n",
       "    </tr>\n",
       "    <tr>\n",
       "      <th>1</th>\n",
       "      <td>(103.37.198.100, 130.14.250.11)</td>\n",
       "      <td>2842</td>\n",
       "    </tr>\n",
       "    <tr>\n",
       "      <th>2</th>\n",
       "      <td>(14.139.196.58, 192.101.107.153)</td>\n",
       "      <td>2368</td>\n",
       "    </tr>\n",
       "    <tr>\n",
       "      <th>3</th>\n",
       "      <td>(140.112.8.139, 103.21.126.2)</td>\n",
       "      <td>2056</td>\n",
       "    </tr>\n",
       "    <tr>\n",
       "      <th>4</th>\n",
       "      <td>(140.90.101.61, 167.205.52.8)</td>\n",
       "      <td>1752</td>\n",
       "    </tr>\n",
       "  </tbody>\n",
       "</table>\n",
       "</div>"
      ],
      "text/plain": [
       "       (IP Address 1, IP Address 2)  No. Of Packets\n",
       "0    (137.132.228.15, 193.62.192.8)            4951\n",
       "1   (103.37.198.100, 130.14.250.11)            2842\n",
       "2  (14.139.196.58, 192.101.107.153)            2368\n",
       "3     (140.112.8.139, 103.21.126.2)            2056\n",
       "4     (140.90.101.61, 167.205.52.8)            1752"
      ]
     },
     "execution_count": 406,
     "metadata": {},
     "output_type": "execute_result"
    }
   ],
   "source": [
    "data_new = data[(data[\"src_IP\"] != \"\") & (data[\"dst_IP\"] != \"\")].groupby([\"src_IP\", \"dst_IP\"]).size()\n",
    "IP_pairs = {}\n",
    "\n",
    "for i in data_new.iteritems():    \n",
    "    if (i[0][0],i[0][1]) in IP_pairs:\n",
    "        IP_pairs[i[0][0],i[0][1]] += i[1]\n",
    "    elif (i[0][1],i[0][0]) in IP_pairs:\n",
    "        IP_pairs[i[0][1],i[0][0]] += i[1]\n",
    "    else:\n",
    "        IP_pairs[i[0][0],i[0][1]] = i[1]\n",
    "        \n",
    "data_sorted = sorted(IP_pairs.items(), key=lambda k: k[1], reverse = True)[0:5]\n",
    "\n",
    "data_4E=pd.DataFrame(data_sorted)\n",
    "data_4E.columns = [\"(IP Address 1, IP Address 2)\",\"No. Of Packets\"]\n",
    "data_4E"
   ]
  },
  {
   "cell_type": "markdown",
   "metadata": {},
   "source": [
    "#### Barchart Visualization of Top 5 Bidirectional Communication Pairs"
   ]
  },
  {
   "cell_type": "code",
   "execution_count": 407,
   "metadata": {},
   "outputs": [
    {
     "data": {
      "image/png": "[encoded data removed]",
      "text/plain": [
       "<Figure size 1800x720 with 1 Axes>"
      ]
     },
     "metadata": {
      "needs_background": "light"
     },
     "output_type": "display_data"
    }
   ],
   "source": [
    "fig, axes = plt.subplots(figsize=(25, 10))\n",
    "row = [i for i in data_4E.index] \n",
    "\n",
    "plt.xlabel(\"IP Address 1, IP Address 2\", fontsize = 25)\n",
    "plt.ylabel(\"No. of packets\", fontsize = 25)\n",
    "plt.title(\"Top 5 Bidirectional Communication Pairs\", fontsize = 35)\n",
    "\n",
    "plt.bar(row, data_4E[\"No. Of Packets\"], align = \"center\", color=\"hotpink\")\n",
    "\n",
    "for i, v in enumerate(data_4E[\"No. Of Packets\"]):\n",
    "    axes.text(i, v, str(v), fontsize = 25)\n",
    "\n",
    "labels = [\"\",data_4E.loc[0][0],data_4E.loc[1][0],data_4E.loc[2][0],data_4E.loc[3][0],data_4E.loc[4][0]]\n",
    "axes.set_xticklabels(labels)\n",
    "\n",
    "plt.show()"
   ]
  },
  {
   "cell_type": "markdown",
   "metadata": {},
   "source": [
    "### Findings\n",
    "\n",
    "Using  https://whatismyipaddress.com or \n",
    "https://whatismyipaddress.com/ip-lookup\n",
    "\n",
    "\n",
    "The top 1st communication pair (193.62.192.8, 137.132.228.15) is between European Bioinformatics Institute and National University of Singapore, and has sent a total of 4951 packets to each other.\n",
    "\n",
    "The top 2nd communication pair (130.14.250.11, 103.37.198.100) is between National Library of Medicine (NLM) and A*STAR, and has sent a total of 2842 packets to each other.\n",
    "\n",
    "The top 3rd communication pair (14.139.196.58, 192.101.107.153) is between Indian Institute of Technology (IIT), Guwahati and Pacific Northwest National Laboratory (PNNL-Z), and has sent a total of 2368 to each other.\n",
    "\n",
    "The top 4th communication pair (140.112.8.139, 103.21.126.2) is between National Taiwan University and Indian Institute of Technology Bombay, and has sent a total of 2056 packets to each other.\n",
    "\n",
    "The top 5th communication pair (137.132.228.15, 193.62.192.8) is between National University of Singapore and European Bioinformatics Institute, and has sent a total of 1752 packets to each other.\n"
   ]
  }
 ],
 "metadata": {
  "kernelspec": {
   "display_name": "Python 3",
   "language": "python",
   "name": "python3"
  },
  "language_info": {
   "codemirror_mode": {
    "name": "ipython",
    "version": 3
   },
   "file_extension": ".py",
   "mimetype": "text/x-python",
   "name": "python",
   "nbconvert_exporter": "python",
   "pygments_lexer": "ipython3",
   "version": "3.7.6"
  }
 },
 "nbformat": 4,
 "nbformat_minor": 4
}
